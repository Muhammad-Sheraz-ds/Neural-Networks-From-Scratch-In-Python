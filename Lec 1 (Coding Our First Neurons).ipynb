{
 "cells": [
  {
   "cell_type": "markdown",
   "id": "b0e2d1ba-a60a-4c51-952f-9137a9c4791b",
   "metadata": {},
   "source": [
    "---   \n",
    " <img align=\"left\" width=\"75\" height=\"75\"  src=\"https://upload.wikimedia.org/wikipedia/en/c/c8/University_of_the_Punjab_logo.png\"> \n",
    "\n",
    "<h1 align=\"center\">Tools and Techniques for Data Science</h1>\n",
    "<h1 align=\"center\">Neural Networks From Scratch in Python</h1>\n",
    "\n",
    "---  \n",
    "\n",
    "<h2 align=\"center\"> Lec 1 (Coding Our First Neurons)</h2>\n",
    "\n",
    "---\n"
   ]
  },
  {
   "cell_type": "code",
   "execution_count": null,
   "id": "703edc53-487a-4b55-9016-6a1d0d4fe538",
   "metadata": {},
   "outputs": [],
   "source": [
    "---\n"
   ]
  },
  {
   "cell_type": "code",
   "execution_count": null,
   "id": "95fe889e-9f86-4466-b50f-97e2f0f2cc17",
   "metadata": {},
   "outputs": [],
   "source": []
  },
  {
   "cell_type": "markdown",
   "id": "fb237277-3819-45cb-ab76-8b38659a20c9",
   "metadata": {},
   "source": [
    "## A Single Neuron"
   ]
  },
  {
   "cell_type": "code",
   "execution_count": 10,
   "id": "dca24686-e4d4-4f1b-aef5-7517bc5c9a56",
   "metadata": {},
   "outputs": [],
   "source": [
    "inputs = [ 1.0 , 2.0 , 3.0 , 2.5 ]\n",
    "weights = [ 0.2 , 0.8 , - 0.5 , 1.0 ]\n",
    "bias = 2.0"
   ]
  },
  {
   "cell_type": "code",
   "execution_count": 11,
   "id": "dc60e4c0-5ca5-4e7c-8bb1-a244b57ed23e",
   "metadata": {},
   "outputs": [
    {
     "name": "stdout",
     "output_type": "stream",
     "text": [
      "4.8\n"
     ]
    }
   ],
   "source": [
    "output = (inputs[ 0 ] * weights[ 0 ] +\n",
    "inputs[ 1 ] * weights[ 1 ] +\n",
    "inputs[ 2 ] * weights[ 2 ] +\n",
    "inputs[ 3 ] * weights[ 3 ] + bias)\n",
    "print (output)"
   ]
  },
  {
   "cell_type": "code",
   "execution_count": null,
   "id": "daa21a35-a8ea-4dd9-b915-c8ccdabb32e8",
   "metadata": {},
   "outputs": [],
   "source": []
  },
  {
   "cell_type": "code",
   "execution_count": null,
   "id": "f04f2965-333f-4523-b206-59705f51625d",
   "metadata": {},
   "outputs": [],
   "source": []
  },
  {
   "cell_type": "markdown",
   "id": "0aafed99-9357-4436-b4b0-5e1eb1a50e6e",
   "metadata": {},
   "source": [
    "## A Layer of Neurons"
   ]
  },
  {
   "cell_type": "code",
   "execution_count": 12,
   "id": "59a92f62-4311-4dcb-b21b-b7c0ea156324",
   "metadata": {},
   "outputs": [],
   "source": [
    "inputs = [ 1 , 2 , 3 , 2.5 ]\n",
    "weights1 = [ 0.2 , 0.8 , - 0.5 , 1 ]\n",
    "weights2 = [ 0.5 , - 0.91 , 0.26 , - 0.5 ]\n",
    "weights3 = [ - 0.26 , - 0.27 , 0.17 , 0.87 ]\n",
    "bias1 = 2\n",
    "bias2 = 3\n",
    "bias3 = 0.5"
   ]
  },
  {
   "cell_type": "code",
   "execution_count": 13,
   "id": "35bcab3b-4738-4068-a19a-97d05b0d0fed",
   "metadata": {},
   "outputs": [
    {
     "name": "stdout",
     "output_type": "stream",
     "text": [
      "[4.8, 1.21, 2.385]\n"
     ]
    }
   ],
   "source": [
    "outputs = [\n",
    "# Neuron 1:\n",
    "inputs[ 0 ] * weights1[ 0 ] +\n",
    "inputs[ 1 ] * weights1[ 1 ] +\n",
    "inputs[ 2 ] * weights1[ 2 ] +\n",
    "inputs[ 3 ] * weights1[ 3 ] + bias1,\n",
    "# Neuron 2:\n",
    "inputs[ 0 ] * weights2[ 0 ] +\n",
    "inputs[ 1 ] * weights2[ 1 ] +\n",
    "inputs[ 2 ] * weights2[ 2 ] +\n",
    "inputs[ 3 ] * weights2[ 3 ] + bias2,\n",
    "# Neuron 3:\n",
    "inputs[ 0 ] * weights3[ 0 ] +\n",
    "inputs[ 1 ] * weights3[ 1 ] +\n",
    "inputs[ 2 ] * weights3[ 2 ] +\n",
    "inputs[ 3 ] * weights3[ 3 ] + bias3]\n",
    "print (outputs)"
   ]
  },
  {
   "cell_type": "code",
   "execution_count": null,
   "id": "10a30cee-db22-4b87-bcde-2fef427dbcde",
   "metadata": {},
   "outputs": [],
   "source": []
  },
  {
   "cell_type": "code",
   "execution_count": null,
   "id": "5fc80e33-cfed-48d6-a290-ee1b4a9914cc",
   "metadata": {},
   "outputs": [],
   "source": []
  },
  {
   "cell_type": "code",
   "execution_count": 15,
   "id": "cc241710-5f1f-4e5c-ae10-7ce3f3669dce",
   "metadata": {},
   "outputs": [
    {
     "name": "stdout",
     "output_type": "stream",
     "text": [
      "[4.8, 1.21, 2.385]\n"
     ]
    }
   ],
   "source": [
    "inputs = [ 1 , 2 , 3 , 2.5 ]\n",
    "weights = [[ 0.2 , 0.8 , - 0.5 , 1 ],\n",
    "[ 0.5 , - 0.91 , 0.26 , - 0.5 ],\n",
    "[ - 0.26 , - 0.27 , 0.17 , 0.87 ]]\n",
    "biases = [ 2 , 3 , 0.5 ]\n",
    "# Output of current layer\n",
    "layer_outputs = []\n",
    "# For each neuron\n",
    "for neuron_weights, neuron_bias in zip (weights, biases):\n",
    "    # Zeroed output of given neuron\n",
    "    neuron_output = 0\n",
    "    # For each input and weight to the neuron\n",
    "    for n_input, weight in zip (inputs, neuron_weights):\n",
    "        # Multiply this input by associated weight\n",
    "        # and add to the neuron’s output variable\n",
    "        neuron_output += n_input * weight\n",
    "    # Add bias\n",
    "    neuron_output += neuron_bias\n",
    "    # Put neuron’s result to the layer’s output list\n",
    "    layer_outputs.append(neuron_output)\n",
    "print (layer_outputs)"
   ]
  },
  {
   "cell_type": "code",
   "execution_count": null,
   "id": "d4217e10-c594-4a0d-a653-3ebb3781501b",
   "metadata": {},
   "outputs": [],
   "source": []
  },
  {
   "cell_type": "code",
   "execution_count": null,
   "id": "def77222-47ca-46c8-8ee3-ee2b59d79e85",
   "metadata": {},
   "outputs": [],
   "source": []
  },
  {
   "cell_type": "markdown",
   "id": "39dd3b7a-33c8-4ff3-b607-a0ef4f958457",
   "metadata": {},
   "source": [
    "### Tensors, Arrays and Vectors"
   ]
  },
  {
   "cell_type": "code",
   "execution_count": 17,
   "id": "135d29e6-f2b2-4f23-903c-2bfe89f7c023",
   "metadata": {},
   "outputs": [
    {
     "name": "stdout",
     "output_type": "stream",
     "text": [
      "list:  [1, 5, 6, 2]\n",
      "A list of lists:  [[1, 5, 6, 2], [3, 2, 1, 3]]\n",
      "A list of lists of lists!  [[[1, 5, 6, 2], [3, 2, 1, 3]], [[5, 2, 1, 2], [6, 4, 8, 4]], [[2, 8, 5, 3], [1, 1, 9, 4]]]\n"
     ]
    }
   ],
   "source": [
    "l = [ 1 , 5 , 6 , 2 ]\n",
    "print('list: ',l)\n",
    "\n",
    "lol = [[ 1 , 5 , 6 , 2 ],\n",
    "[ 3 , 2 , 1 , 3 ]]\n",
    "\n",
    "print('A list of lists: ',lol)\n",
    "\n",
    "lolol = [[[ 1 , 5 , 6 , 2 ],\n",
    "[ 3 , 2 , 1 , 3 ]],\n",
    "[[ 5 , 2 , 1 , 2 ],\n",
    "[ 6 , 4 , 8 , 4 ]],\n",
    "[[ 2 , 8 , 5 , 3 ],\n",
    "[ 1 , 1 , 9 , 4 ]]]\n",
    "\n",
    "print('A list of lists of lists! ',lolol)"
   ]
  },
  {
   "cell_type": "code",
   "execution_count": null,
   "id": "25d18532-09eb-4b47-85cc-e32639d474dc",
   "metadata": {},
   "outputs": [],
   "source": []
  },
  {
   "cell_type": "markdown",
   "id": "472f5761-5794-40f3-8cb6-5f530b098848",
   "metadata": {},
   "source": [
    "## Dot Product and Vector Addition"
   ]
  },
  {
   "cell_type": "code",
   "execution_count": 19,
   "id": "3dc541c5-7055-4b1c-816d-fd15b5a08b2b",
   "metadata": {},
   "outputs": [
    {
     "name": "stdout",
     "output_type": "stream",
     "text": [
      "Dot Product:  20\n"
     ]
    }
   ],
   "source": [
    "a = [ 1 , 2 , 3 ]\n",
    "b = [ 2 , 3 , 4 ]\n",
    "dot_product = a[ 0 ] * b[ 0 ] + a[ 1 ] * b[ 1 ] + a[ 2 ] * b[ 2 ]\n",
    "print ('Dot Product: ',dot_product)"
   ]
  },
  {
   "cell_type": "code",
   "execution_count": null,
   "id": "3f39ac1e-fba0-4ecd-b612-c2e4f0343bf4",
   "metadata": {},
   "outputs": [],
   "source": []
  },
  {
   "cell_type": "code",
   "execution_count": null,
   "id": "2084550f-2d15-49b7-9a4f-b23dd2cb1644",
   "metadata": {},
   "outputs": [],
   "source": []
  },
  {
   "cell_type": "markdown",
   "id": "0f058007-de25-4eda-917e-0b573508d15f",
   "metadata": {},
   "source": [
    "## A Single Neuron with NumPy"
   ]
  },
  {
   "cell_type": "code",
   "execution_count": 20,
   "id": "4b839556-70aa-4d0c-a561-36c99d93f920",
   "metadata": {},
   "outputs": [
    {
     "name": "stdout",
     "output_type": "stream",
     "text": [
      "4.8\n"
     ]
    }
   ],
   "source": [
    "import numpy as np\n",
    "inputs = [ 1.0 , 2.0 , 3.0 , 2.5 ]\n",
    "weights = [ 0.2 , 0.8 , - 0.5 , 1.0 ]\n",
    "bias = 2.0\n",
    "outputs = np.dot(weights, inputs) + bias\n",
    "print (outputs)"
   ]
  },
  {
   "cell_type": "code",
   "execution_count": null,
   "id": "5ba6e359-da46-4034-8fa0-7d6541df08df",
   "metadata": {},
   "outputs": [],
   "source": []
  },
  {
   "cell_type": "markdown",
   "id": "ff45d938-189a-4b1c-bd0a-d81ffd96bc8e",
   "metadata": {},
   "source": [
    "## A Layer of Neurons with NumPy"
   ]
  },
  {
   "cell_type": "code",
   "execution_count": 22,
   "id": "2655d785-ff25-4008-99e2-bac0ef8e6797",
   "metadata": {},
   "outputs": [
    {
     "name": "stdout",
     "output_type": "stream",
     "text": [
      "[4.8   1.21  2.385]\n"
     ]
    }
   ],
   "source": [
    "import numpy as np\n",
    "inputs = [ 1.0 , 2.0 , 3.0 , 2.5 ]\n",
    "weights = [[ 0.2 , 0.8 , - 0.5 , 1 ],\n",
    "            [ 0.5 , - 0.91 , 0.26 , - 0.5 ],\n",
    "            [ - 0.26 , - 0.27 , 0.17 , 0.87 ]]\n",
    "biases = [ 2.0 , 3.0 , 0.5 ]\n",
    "layer_outputs = np.dot(weights, inputs) + biases\n",
    "print (layer_outputs)"
   ]
  },
  {
   "cell_type": "code",
   "execution_count": null,
   "id": "b000f1e7-d005-4737-af7b-815a713a186c",
   "metadata": {},
   "outputs": [],
   "source": []
  }
 ],
 "metadata": {
  "kernelspec": {
   "display_name": "Python 3 (ipykernel)",
   "language": "python",
   "name": "python3"
  },
  "language_info": {
   "codemirror_mode": {
    "name": "ipython",
    "version": 3
   },
   "file_extension": ".py",
   "mimetype": "text/x-python",
   "name": "python",
   "nbconvert_exporter": "python",
   "pygments_lexer": "ipython3",
   "version": "3.10.6"
  }
 },
 "nbformat": 4,
 "nbformat_minor": 5
}
