{
 "cells": [
  {
   "cell_type": "markdown",
   "id": "b0e2d1ba-a60a-4c51-952f-9137a9c4791b",
   "metadata": {},
   "source": [
    "---   \n",
    " <img align=\"left\" width=\"75\" height=\"75\"  src=\"https://upload.wikimedia.org/wikipedia/en/c/c8/University_of_the_Punjab_logo.png\"> \n",
    "\n",
    "<h1 align=\"center\">Tools and Techniques for Data Science</h1>\n",
    "<h1 align=\"center\">Neural Networks From Scratch in Python</h1>\n",
    "\n",
    "---  \n",
    "\n",
    "<h2 align=\"right\"> Muhammad Sheraz (Data Scientist)</h2>\n",
    "<h1 align=\"center\"> Lec 1 (Coding Our First Neurons)</h1>"
   ]
  },
  {
   "cell_type": "markdown",
   "id": "c45202fe-64f7-48ce-baf8-f3a8310cd223",
   "metadata": {},
   "source": [
    "<div height='1000px' width='100%'>\n",
    "    <img width='49%' src='Images/n1.png'>\n",
    "     <img width='49%' src='Images/n2.jpg'>\n",
    "</div>"
   ]
  },
  {
   "cell_type": "code",
   "execution_count": null,
   "id": "95fe889e-9f86-4466-b50f-97e2f0f2cc17",
   "metadata": {},
   "outputs": [],
   "source": []
  },
  {
   "cell_type": "markdown",
   "id": "fb237277-3819-45cb-ab76-8b38659a20c9",
   "metadata": {},
   "source": [
    "## A Single Neuron"
   ]
  },
  {
   "cell_type": "code",
   "execution_count": 10,
   "id": "dca24686-e4d4-4f1b-aef5-7517bc5c9a56",
   "metadata": {},
   "outputs": [],
   "source": [
    "inputs = [ 1.0 , 2.0 , 3.0 , 2.5 ]\n",
    "weights = [ 0.2 , 0.8 , - 0.5 , 1.0 ]\n",
    "bias = 2.0"
   ]
  },
  {
   "cell_type": "code",
   "execution_count": 11,
   "id": "dc60e4c0-5ca5-4e7c-8bb1-a244b57ed23e",
   "metadata": {},
   "outputs": [
    {
     "name": "stdout",
     "output_type": "stream",
     "text": [
      "4.8\n"
     ]
    }
   ],
   "source": [
    "output = (inputs[ 0 ] * weights[ 0 ] +\n",
    "inputs[ 1 ] * weights[ 1 ] +\n",
    "inputs[ 2 ] * weights[ 2 ] +\n",
    "inputs[ 3 ] * weights[ 3 ] + bias)\n",
    "print (output)"
   ]
  },
  {
   "cell_type": "code",
   "execution_count": null,
   "id": "daa21a35-a8ea-4dd9-b915-c8ccdabb32e8",
   "metadata": {},
   "outputs": [],
   "source": []
  },
  {
   "cell_type": "code",
   "execution_count": null,
   "id": "f04f2965-333f-4523-b206-59705f51625d",
   "metadata": {},
   "outputs": [],
   "source": []
  },
  {
   "cell_type": "markdown",
   "id": "0aafed99-9357-4436-b4b0-5e1eb1a50e6e",
   "metadata": {},
   "source": [
    "## A Layer of Neurons"
   ]
  },
  {
   "cell_type": "code",
   "execution_count": 12,
   "id": "59a92f62-4311-4dcb-b21b-b7c0ea156324",
   "metadata": {},
   "outputs": [],
   "source": [
    "inputs = [ 1 , 2 , 3 , 2.5 ]\n",
    "weights1 = [ 0.2 , 0.8 , - 0.5 , 1 ]\n",
    "weights2 = [ 0.5 , - 0.91 , 0.26 , - 0.5 ]\n",
    "weights3 = [ - 0.26 , - 0.27 , 0.17 , 0.87 ]\n",
    "bias1 = 2\n",
    "bias2 = 3\n",
    "bias3 = 0.5"
   ]
  },
  {
   "cell_type": "code",
   "execution_count": 13,
   "id": "35bcab3b-4738-4068-a19a-97d05b0d0fed",
   "metadata": {},
   "outputs": [
    {
     "name": "stdout",
     "output_type": "stream",
     "text": [
      "[4.8, 1.21, 2.385]\n"
     ]
    }
   ],
   "source": [
    "outputs = [\n",
    "# Neuron 1:\n",
    "inputs[ 0 ] * weights1[ 0 ] +\n",
    "inputs[ 1 ] * weights1[ 1 ] +\n",
    "inputs[ 2 ] * weights1[ 2 ] +\n",
    "inputs[ 3 ] * weights1[ 3 ] + bias1,\n",
    "# Neuron 2:\n",
    "inputs[ 0 ] * weights2[ 0 ] +\n",
    "inputs[ 1 ] * weights2[ 1 ] +\n",
    "inputs[ 2 ] * weights2[ 2 ] +\n",
    "inputs[ 3 ] * weights2[ 3 ] + bias2,\n",
    "# Neuron 3:\n",
    "inputs[ 0 ] * weights3[ 0 ] +\n",
    "inputs[ 1 ] * weights3[ 1 ] +\n",
    "inputs[ 2 ] * weights3[ 2 ] +\n",
    "inputs[ 3 ] * weights3[ 3 ] + bias3]\n",
    "print (outputs)"
   ]
  },
  {
   "cell_type": "code",
   "execution_count": null,
   "id": "10a30cee-db22-4b87-bcde-2fef427dbcde",
   "metadata": {},
   "outputs": [],
   "source": []
  },
  {
   "cell_type": "code",
   "execution_count": null,
   "id": "5fc80e33-cfed-48d6-a290-ee1b4a9914cc",
   "metadata": {},
   "outputs": [],
   "source": []
  },
  {
   "cell_type": "code",
   "execution_count": 15,
   "id": "cc241710-5f1f-4e5c-ae10-7ce3f3669dce",
   "metadata": {},
   "outputs": [
    {
     "name": "stdout",
     "output_type": "stream",
     "text": [
      "[4.8, 1.21, 2.385]\n"
     ]
    }
   ],
   "source": [
    "inputs = [ 1 , 2 , 3 , 2.5 ]\n",
    "weights = [[ 0.2 , 0.8 , - 0.5 , 1 ],\n",
    "[ 0.5 , - 0.91 , 0.26 , - 0.5 ],\n",
    "[ - 0.26 , - 0.27 , 0.17 , 0.87 ]]\n",
    "biases = [ 2 , 3 , 0.5 ]\n",
    "# Output of current layer\n",
    "layer_outputs = []\n",
    "# For each neuron\n",
    "for neuron_weights, neuron_bias in zip (weights, biases):\n",
    "    # Zeroed output of given neuron\n",
    "    neuron_output = 0\n",
    "    # For each input and weight to the neuron\n",
    "    for n_input, weight in zip (inputs, neuron_weights):\n",
    "        # Multiply this input by associated weight\n",
    "        # and add to the neuron’s output variable\n",
    "        neuron_output += n_input * weight\n",
    "    # Add bias\n",
    "    neuron_output += neuron_bias\n",
    "    # Put neuron’s result to the layer’s output list\n",
    "    layer_outputs.append(neuron_output)\n",
    "print (layer_outputs)"
   ]
  },
  {
   "cell_type": "code",
   "execution_count": null,
   "id": "d4217e10-c594-4a0d-a653-3ebb3781501b",
   "metadata": {},
   "outputs": [],
   "source": []
  },
  {
   "cell_type": "code",
   "execution_count": null,
   "id": "def77222-47ca-46c8-8ee3-ee2b59d79e85",
   "metadata": {},
   "outputs": [],
   "source": []
  },
  {
   "cell_type": "markdown",
   "id": "39dd3b7a-33c8-4ff3-b607-a0ef4f958457",
   "metadata": {},
   "source": [
    "### Tensors, Arrays and Vectors"
   ]
  },
  {
   "cell_type": "code",
   "execution_count": 17,
   "id": "135d29e6-f2b2-4f23-903c-2bfe89f7c023",
   "metadata": {},
   "outputs": [
    {
     "name": "stdout",
     "output_type": "stream",
     "text": [
      "list:  [1, 5, 6, 2]\n",
      "A list of lists:  [[1, 5, 6, 2], [3, 2, 1, 3]]\n",
      "A list of lists of lists!  [[[1, 5, 6, 2], [3, 2, 1, 3]], [[5, 2, 1, 2], [6, 4, 8, 4]], [[2, 8, 5, 3], [1, 1, 9, 4]]]\n"
     ]
    }
   ],
   "source": [
    "l = [ 1 , 5 , 6 , 2 ]\n",
    "print('list: ',l)\n",
    "\n",
    "lol = [[ 1 , 5 , 6 , 2 ],\n",
    "[ 3 , 2 , 1 , 3 ]]\n",
    "\n",
    "print('A list of lists: ',lol)\n",
    "\n",
    "lolol = [[[ 1 , 5 , 6 , 2 ],\n",
    "[ 3 , 2 , 1 , 3 ]],\n",
    "[[ 5 , 2 , 1 , 2 ],\n",
    "[ 6 , 4 , 8 , 4 ]],\n",
    "[[ 2 , 8 , 5 , 3 ],\n",
    "[ 1 , 1 , 9 , 4 ]]]\n",
    "\n",
    "print('A list of lists of lists! ',lolol)"
   ]
  },
  {
   "cell_type": "code",
   "execution_count": null,
   "id": "25d18532-09eb-4b47-85cc-e32639d474dc",
   "metadata": {},
   "outputs": [],
   "source": []
  },
  {
   "cell_type": "markdown",
   "id": "472f5761-5794-40f3-8cb6-5f530b098848",
   "metadata": {},
   "source": [
    "## Dot Product and Vector Addition"
   ]
  },
  {
   "cell_type": "code",
   "execution_count": 19,
   "id": "3dc541c5-7055-4b1c-816d-fd15b5a08b2b",
   "metadata": {},
   "outputs": [
    {
     "name": "stdout",
     "output_type": "stream",
     "text": [
      "Dot Product:  20\n"
     ]
    }
   ],
   "source": [
    "a = [ 1 , 2 , 3 ]\n",
    "b = [ 2 , 3 , 4 ]\n",
    "dot_product = a[ 0 ] * b[ 0 ] + a[ 1 ] * b[ 1 ] + a[ 2 ] * b[ 2 ]\n",
    "print ('Dot Product: ',dot_product)"
   ]
  },
  {
   "cell_type": "code",
   "execution_count": null,
   "id": "3f39ac1e-fba0-4ecd-b612-c2e4f0343bf4",
   "metadata": {},
   "outputs": [],
   "source": []
  },
  {
   "cell_type": "code",
   "execution_count": null,
   "id": "2084550f-2d15-49b7-9a4f-b23dd2cb1644",
   "metadata": {},
   "outputs": [],
   "source": []
  },
  {
   "cell_type": "markdown",
   "id": "0f058007-de25-4eda-917e-0b573508d15f",
   "metadata": {},
   "source": [
    "## A Single Neuron with NumPy"
   ]
  },
  {
   "cell_type": "code",
   "execution_count": 20,
   "id": "4b839556-70aa-4d0c-a561-36c99d93f920",
   "metadata": {},
   "outputs": [
    {
     "name": "stdout",
     "output_type": "stream",
     "text": [
      "4.8\n"
     ]
    }
   ],
   "source": [
    "import numpy as np\n",
    "inputs = [ 1.0 , 2.0 , 3.0 , 2.5 ]\n",
    "weights = [ 0.2 , 0.8 , - 0.5 , 1.0 ]\n",
    "bias = 2.0\n",
    "outputs = np.dot(weights, inputs) + bias\n",
    "print (outputs)"
   ]
  },
  {
   "cell_type": "code",
   "execution_count": null,
   "id": "5ba6e359-da46-4034-8fa0-7d6541df08df",
   "metadata": {},
   "outputs": [],
   "source": []
  },
  {
   "cell_type": "markdown",
   "id": "ff45d938-189a-4b1c-bd0a-d81ffd96bc8e",
   "metadata": {},
   "source": [
    "## A Layer of Neurons with NumPy"
   ]
  },
  {
   "cell_type": "code",
   "execution_count": 22,
   "id": "2655d785-ff25-4008-99e2-bac0ef8e6797",
   "metadata": {},
   "outputs": [
    {
     "name": "stdout",
     "output_type": "stream",
     "text": [
      "[4.8   1.21  2.385]\n"
     ]
    }
   ],
   "source": [
    "import numpy as np\n",
    "inputs = [ 1.0 , 2.0 , 3.0 , 2.5 ]\n",
    "weights = [[ 0.2 , 0.8 , - 0.5 , 1 ],\n",
    "            [ 0.5 , - 0.91 , 0.26 , - 0.5 ],\n",
    "            [ - 0.26 , - 0.27 , 0.17 , 0.87 ]]\n",
    "biases = [ 2.0 , 3.0 , 0.5 ]\n",
    "layer_outputs = np.dot(weights, inputs) + biases\n",
    "print (layer_outputs)"
   ]
  },
  {
   "cell_type": "code",
   "execution_count": null,
   "id": "b000f1e7-d005-4737-af7b-815a713a186c",
   "metadata": {},
   "outputs": [],
   "source": []
  },
  {
   "cell_type": "markdown",
   "id": "bc9d4f6f-5998-409b-9546-b85c3fab7e75",
   "metadata": {},
   "source": [
    "## Matrix Product"
   ]
  },
  {
   "cell_type": "code",
   "execution_count": 3,
   "id": "2167bc5a-92fe-46cd-a2ab-59c0660eff1c",
   "metadata": {},
   "outputs": [
    {
     "name": "stdout",
     "output_type": "stream",
     "text": [
      "Matrix A:\n",
      "[[1 2 3]\n",
      " [4 5 6]]\n",
      "\n",
      "Matrix B:\n",
      "[[ 7  8]\n",
      " [ 9 10]\n",
      " [11 12]]\n",
      "\n",
      "Result Matrix:\n",
      "[[ 58  64]\n",
      " [139 154]]\n"
     ]
    }
   ],
   "source": [
    "import numpy as np\n",
    "\n",
    "# Define two matrices\n",
    "matrix_a = np.array([[1, 2, 3], [4, 5, 6]])\n",
    "matrix_b = np.array([[7, 8], [9, 10], [11, 12]])\n",
    "\n",
    "# Perform matrix multiplication\n",
    "result_matrix = np.dot(matrix_a, matrix_b)\n",
    "\n",
    "# Display the result\n",
    "print(\"Matrix A:\")\n",
    "print(matrix_a)\n",
    "\n",
    "print(\"\\nMatrix B:\")\n",
    "print(matrix_b)\n",
    "\n",
    "print(\"\\nResult Matrix:\")\n",
    "print(result_matrix)\n"
   ]
  },
  {
   "cell_type": "code",
   "execution_count": null,
   "id": "f5d2ea79-1ec8-4587-b0f0-54339b7d27a9",
   "metadata": {},
   "outputs": [],
   "source": []
  },
  {
   "cell_type": "markdown",
   "id": "069cff24-e253-4743-b4b5-89bd36b0c7a2",
   "metadata": {},
   "source": [
    "## Transposition for the Matrix Product"
   ]
  },
  {
   "cell_type": "code",
   "execution_count": 7,
   "id": "0767bf6b-a7b8-4c93-a815-6a785df25ca8",
   "metadata": {},
   "outputs": [
    {
     "data": {
      "text/plain": [
       "array([[1],\n",
       "       [2],\n",
       "       [3]])"
      ]
     },
     "execution_count": 7,
     "metadata": {},
     "output_type": "execute_result"
    }
   ],
   "source": [
    "a = [ 1 , 2 , 3 ]\n",
    "np.array([a]).T\n"
   ]
  },
  {
   "cell_type": "code",
   "execution_count": 8,
   "id": "288416b2-bb02-4e14-99d0-8ded66c96f57",
   "metadata": {},
   "outputs": [
    {
     "data": {
      "text/plain": [
       "array([[20]])"
      ]
     },
     "execution_count": 8,
     "metadata": {},
     "output_type": "execute_result"
    }
   ],
   "source": [
    "a = [ 1 , 2 , 3 ]\n",
    "b = [ 2 , 3 , 4 ]\n",
    "a = np.array([a])\n",
    "b = np.array([b]).T\n",
    "np.dot(a, b)"
   ]
  },
  {
   "cell_type": "code",
   "execution_count": null,
   "id": "a62982be-46e4-4d39-97ef-5c0d0c242267",
   "metadata": {},
   "outputs": [],
   "source": []
  },
  {
   "cell_type": "markdown",
   "id": "21cb5e02-7876-45a7-b5d6-6a6026dcf48f",
   "metadata": {},
   "source": [
    "## A Layer of Neurons & Batch of Data w/ NumPy"
   ]
  },
  {
   "cell_type": "code",
   "execution_count": 9,
   "id": "1957613c-fb6e-4569-9275-21257a061cef",
   "metadata": {},
   "outputs": [
    {
     "name": "stdout",
     "output_type": "stream",
     "text": [
      "[[ 4.8    1.21   2.385]\n",
      " [ 8.9   -1.81   0.2  ]\n",
      " [ 1.41   1.051  0.026]]\n"
     ]
    }
   ],
   "source": [
    "inputs = [[ 1.0 , 2.0 , 3.0 , 2.5 ],\n",
    "        [ 2.0 , 5.0 , - 1.0 , 2.0 ],\n",
    "        [ - 1.5 , 2.7 , 3.3 , - 0.8 ]]\n",
    "\n",
    "weights = [[ 0.2 , 0.8 , - 0.5 , 1.0 ],\n",
    "        [ 0.5 , - 0.91 , 0.26 , - 0.5 ],\n",
    "        [ - 0.26 , - 0.27 , 0.17 , 0.87 ]]\n",
    "\n",
    "biases = [ 2.0 , 3.0 , 0.5 ]\n",
    "\n",
    "layer_outputs = np.dot(inputs, np.array(weights).T) + biases\n",
    "\n",
    "print (layer_outputs)"
   ]
  },
  {
   "cell_type": "code",
   "execution_count": null,
   "id": "1f07c6d4-6d70-4ec0-803b-4649e2a181ca",
   "metadata": {},
   "outputs": [],
   "source": []
  }
 ],
 "metadata": {
  "kernelspec": {
   "display_name": "Python 3 (ipykernel)",
   "language": "python",
   "name": "python3"
  },
  "language_info": {
   "codemirror_mode": {
    "name": "ipython",
    "version": 3
   },
   "file_extension": ".py",
   "mimetype": "text/x-python",
   "name": "python",
   "nbconvert_exporter": "python",
   "pygments_lexer": "ipython3",
   "version": "3.10.6"
  }
 },
 "nbformat": 4,
 "nbformat_minor": 5
}
