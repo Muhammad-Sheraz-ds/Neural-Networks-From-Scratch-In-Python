{
 "cells": [
  {
   "cell_type": "markdown",
   "id": "dbaa05fe-c3c7-4e7f-91c6-56fcb28aa699",
   "metadata": {},
   "source": [
    "---   \n",
    "<img align=\"left\" width=\"110\"   src=\"https://upload.wikimedia.org/wikipedia/commons/c/c3/Python-logo-notext.svg\"> \n",
    "<h1 align=\"center\">Tools and Techniques for Data Science</h1>\n",
    "<h1 align=\"center\">Neural Networks From Scratch in Python</h1>\n",
    "\n",
    "---  \n",
    "\n",
    "<h3 align=\"right\"> Muhammad Sheraz (Data Scientist)</h3>\n",
    "<h1 align=\"center\"> Lec 3 (Activation Functions)</h1>"
   ]
  },
  {
   "cell_type": "markdown",
   "id": "02711733-7dbc-4a0a-ac91-a47f09b14a29",
   "metadata": {},
   "source": [
    "<div width='100%'>\n",
    "<img  width='33%' float='left' src='Images/sigmoid1.png'>\n",
    "<img   width='33%' float='left' src='Images/softmax.jpg'>\n",
    "<img    width='33%' float='left' src='Images/softmax.jpg'>\n",
    "<img  width='33%' float='left' src='Images/sigmoid.png'>\n",
    "<img   width='33%' float='left' src='Images/softmax1.png'>\n",
    "<img    width='33%' float='left' src='Images/softmax1.png'>\n",
    "</div>"
   ]
  },
  {
   "cell_type": "code",
   "execution_count": null,
   "id": "561eea3e-cbe8-4b06-9037-ee37eaa902a9",
   "metadata": {},
   "outputs": [],
   "source": []
  },
  {
   "cell_type": "markdown",
   "id": "3a5c88b1-a38a-47e3-8473-fbea4ead1214",
   "metadata": {},
   "source": [
    "## ReLU Activation Function\n",
    "<img align='right' src='Images/relu.jpg'>\n",
    "\n",
    "- ReLU stands for Rectified Linear Unit.\n",
    "- It is a `non-linear activation function` widely used in neural networks.\n",
    "- Mathematically, ReLU is defined as `f(x) = max(0, x)`,which means it `returns 0` for any negative input and the input value for any positive input.\n",
    "\n",
    "### Advantages\n",
    "- ReLU is computationally efficient and helps in addressing the `vanishing gradient problem` during training.\n",
    "- One of its main advantages is that it introduces sparsity in the network by setting negative values to zero, which can help prevent `overfitting`.\n",
    "- ReLU is often used in hidden layers of neural networks, especially in deep learning architectures.\n",
    "\n",
    "### Disadvantages\n",
    "- Despite its advantages, ReLU can suffer from the `dying ReLU` problem where neurons may become inactive and permanently output zero for any input.\n",
    "- To address the dying ReLU problem, variants such as `Leaky ReLU` and `Parametric ReLU` have been introduced.\n"
   ]
  },
  {
   "cell_type": "code",
   "execution_count": 1,
   "id": "021e91b1-b570-45b9-9333-52d8436b26fb",
   "metadata": {},
   "outputs": [
    {
     "name": "stdout",
     "output_type": "stream",
     "text": [
      "[0, 2, 0, 3.3, 0, 1.1, 2.2, 0]\n"
     ]
    }
   ],
   "source": [
    "inputs = [ 0 , 2 , - 1 , 3.3 , - 2.7 , 1.1 , 2.2 , - 100 ]\n",
    "output = []\n",
    "for i in inputs:\n",
    "    if i > 0 :\n",
    "        output.append(i)\n",
    "    else :\n",
    "        output.append( 0 )\n",
    "print(output)"
   ]
  },
  {
   "cell_type": "code",
   "execution_count": null,
   "id": "f8809fee-8421-4779-a272-73394a7f6534",
   "metadata": {},
   "outputs": [],
   "source": []
  },
  {
   "cell_type": "code",
   "execution_count": 2,
   "id": "2f459ccf-0541-479b-a8e8-ba6bb3447c0f",
   "metadata": {},
   "outputs": [
    {
     "name": "stdout",
     "output_type": "stream",
     "text": [
      "[0, 2, 0, 3.3, 0, 1.1, 2.2, 0]\n"
     ]
    }
   ],
   "source": [
    "inputs = [ 0 , 2 , - 1 , 3.3 , - 2.7 , 1.1 , 2.2 , - 100 ]\n",
    "output = []\n",
    "for i in inputs:\n",
    "    output.append( max ( 0 , i))\n",
    "print (output)"
   ]
  },
  {
   "cell_type": "code",
   "execution_count": null,
   "id": "482118da-532a-4d0b-8b68-a3e6bf27e676",
   "metadata": {},
   "outputs": [],
   "source": []
  },
  {
   "cell_type": "code",
   "execution_count": 3,
   "id": "8321c606-ba11-4355-af5a-f863fdb51e5d",
   "metadata": {},
   "outputs": [
    {
     "name": "stdout",
     "output_type": "stream",
     "text": [
      "[0.  2.  0.  3.3 0.  1.1 2.2 0. ]\n"
     ]
    }
   ],
   "source": [
    "import numpy as np\n",
    "inputs = [ 0 , 2 , - 1 , 3.3 , - 2.7 , 1.1 , 2.2 , - 100 ]\n",
    "output = np.maximum( 0 , inputs)\n",
    "print (output)"
   ]
  },
  {
   "cell_type": "code",
   "execution_count": null,
   "id": "5b45a0f3-b0f8-46a2-8fb2-fb27a32d1084",
   "metadata": {},
   "outputs": [],
   "source": []
  },
  {
   "cell_type": "code",
   "execution_count": 4,
   "id": "03f0c50c-0827-462a-a93c-2a9a69e54d60",
   "metadata": {},
   "outputs": [
    {
     "data": {
      "image/png": "[encoded data removed]",
      "text/plain": [
       "<Figure size 432x288 with 1 Axes>"
      ]
     },
     "metadata": {
      "needs_background": "light"
     },
     "output_type": "display_data"
    }
   ],
   "source": [
    "import numpy as np\n",
    "import matplotlib.pyplot as plt\n",
    "\n",
    "def relu(x):\n",
    "    return np.maximum(0, x)\n",
    "\n",
    "x_values = np.linspace(-5, 5, 100)\n",
    "y_values = relu(x_values)\n",
    "plt.plot(x_values, y_values, label='ReLU Function')\n",
    "plt.title('ReLU Activation Function')\n",
    "plt.grid(True)\n",
    "plt.annotate('f(x) = max(0,X)', xy=(-2.5,3),fontsize=16)\n",
    "plt.show()"
   ]
  },
  {
   "cell_type": "code",
   "execution_count": 10,
   "id": "8b78dd72-c5d7-4e20-a474-668894d0efcd",
   "metadata": {},
   "outputs": [],
   "source": [
    "class Layer_Dense :\n",
    "    def __init__ ( self , n_inputs , n_neurons ):\n",
    "        self.weights = 0.01 * np.random.randn(n_inputs, n_neurons)\n",
    "        self.biases = np.zeros(( 1 , n_neurons))\n",
    "    def forward ( self , inputs ):\n",
    "        self.output = np.dot(inputs, self.weights) + self.biases\n"
   ]
  },
  {
   "cell_type": "code",
   "execution_count": 11,
   "id": "55ba0f59-2238-45c4-a3e5-cf3bfde28f9f",
   "metadata": {},
   "outputs": [],
   "source": [
    "class Activation_ReLU :\n",
    "    def forward ( self , inputs ):\n",
    "        self.output = np.maximum( 0 , inputs)"
   ]
  },
  {
   "cell_type": "code",
   "execution_count": 12,
   "id": "7d677b1a-5e14-4f5d-a564-22b4b4693d55",
   "metadata": {},
   "outputs": [],
   "source": [
    "from nnfs.datasets import spiral_data"
   ]
  },
  {
   "cell_type": "code",
   "execution_count": 13,
   "id": "5cac176c-d7e5-416f-a0cb-03dca21e0816",
   "metadata": {},
   "outputs": [],
   "source": [
    "X, y = spiral_data( samples = 100 , classes = 3 )"
   ]
  },
  {
   "cell_type": "code",
   "execution_count": 14,
   "id": "9758d7b6-2f11-4110-8629-e95d56b0d22b",
   "metadata": {},
   "outputs": [
    {
     "data": {
      "image/png": "[encoded data removed]",
      "text/plain": [
       "<Figure size 432x288 with 1 Axes>"
      ]
     },
     "metadata": {
      "needs_background": "light"
     },
     "output_type": "display_data"
    }
   ],
   "source": [
    "plt.scatter(X[:, 0 ], X[:, 1 ], c = y, cmap = 'brg' )\n",
    "plt.show()"
   ]
  },
  {
   "cell_type": "code",
   "execution_count": 15,
   "id": "bc9c59b1-e2e9-49a3-9f7f-cd52dd1667d7",
   "metadata": {},
   "outputs": [],
   "source": [
    "dense1 = Layer_Dense( 2 , 3 )\n",
    "activation1 = Activation_ReLU()\n",
    "dense1.forward(X)"
   ]
  },
  {
   "cell_type": "code",
   "execution_count": 16,
   "id": "f1a57d86-595e-466e-b876-ba18d09ef2df",
   "metadata": {},
   "outputs": [
    {
     "data": {
      "text/plain": [
       "array([[ 0.00000000e+00,  0.00000000e+00,  0.00000000e+00],\n",
       "       [-1.06386665e-04,  6.37645329e-05,  8.03613170e-05],\n",
       "       [-2.03263791e-04,  1.17136687e-04,  1.36748842e-04],\n",
       "       [-3.54277348e-04,  2.73547082e-04,  4.86605052e-04],\n",
       "       [-3.87365398e-04,  3.43950177e-04,  6.92544186e-04]])"
      ]
     },
     "execution_count": 16,
     "metadata": {},
     "output_type": "execute_result"
    }
   ],
   "source": [
    "dense1.output[: 5 ]"
   ]
  },
  {
   "cell_type": "code",
   "execution_count": 17,
   "id": "e74949fe-39ad-433e-b2d1-947dfe306a8f",
   "metadata": {},
   "outputs": [],
   "source": [
    "activation1.forward(dense1.output)"
   ]
  },
  {
   "cell_type": "code",
   "execution_count": 18,
   "id": "57b2df8c-e00d-4ee0-ad83-62f4ab3c7c95",
   "metadata": {},
   "outputs": [
    {
     "data": {
      "text/plain": [
       "array([[0.00000000e+00, 0.00000000e+00, 0.00000000e+00],\n",
       "       [0.00000000e+00, 6.37645329e-05, 8.03613170e-05],\n",
       "       [0.00000000e+00, 1.17136687e-04, 1.36748842e-04],\n",
       "       [0.00000000e+00, 2.73547082e-04, 4.86605052e-04],\n",
       "       [0.00000000e+00, 3.43950177e-04, 6.92544186e-04]])"
      ]
     },
     "execution_count": 18,
     "metadata": {},
     "output_type": "execute_result"
    }
   ],
   "source": [
    "activation1.output[: 5 ]"
   ]
  },
  {
   "cell_type": "markdown",
   "id": "2cdc84e9-5108-428e-8563-cebd3aae3938",
   "metadata": {},
   "source": [
    "> **As you can see, negative values have been clipped (modified to be zero). That’s all there is to the\n",
    "rectified linear activation function used in the hidden layer.**"
   ]
  },
  {
   "cell_type": "code",
   "execution_count": null,
   "id": "3b968917-4cae-46a4-a84d-d32bbabc7280",
   "metadata": {},
   "outputs": [],
   "source": []
  },
  {
   "cell_type": "markdown",
   "id": "01ba897d-3e75-4179-98b2-d141471b4f23",
   "metadata": {},
   "source": [
    "## Softmax Activation Function\n",
    "\n",
    "<img align='right' src='Images/softmax.jpg'>\n",
    "\n",
    "- Softmax is a `non-linear activation function` commonly used in `classification problems` in neural networks.\n",
    "- Mathematically, softmax is defined as the exponential of each input divided by the sum of all exponentials in the input vector. This can be represented as:\n",
    "\n",
    "   <img align='center' src='Images/softmax1.png'>\n",
    "\n",
    "### Advantages\n",
    "\n",
    "- Softmax function normalizes the output into a `probability distribution`, ensuring that the output values are between `0` and `1` and sum up to `1`.\n",
    "- It is useful for `multi-class classification` tasks as it provides the probability distribution over multiple classes.\n",
    "\n",
    "  \n",
    "### Disadvantages\n",
    "\n",
    "- Softmax function can suffer from `numerical instability`, especially when dealing with large input values, which can lead to `overflow` or `underflow` issues.\n",
    "- It is sensitive to `outliers` in the input data, which can affect the model's predictions.\n",
    "- Softmax outputs are `not robust` to changes in input scale, as small changes in the input can lead to significant changes in the output probabilities.\n",
    "\n",
    "### Explaination\n",
    "- Softmax transforms uncalibrated inputs into a probability distribution.\n",
    "- The `output` of Softmax represents `confidence scores` for each class.\n",
    "- The predicted class is associated with the highest confidence score.\n",
    "- Confidence scores sum up to `1`, providing context for predictions.\n",
    "- `Lower confidence` scores may indicate `uncertainty` in predictions."
   ]
  },
  {
   "cell_type": "code",
   "execution_count": null,
   "id": "dadffbf0-9ef8-4bd2-a93b-25fdc18d973b",
   "metadata": {},
   "outputs": [],
   "source": []
  },
  {
   "cell_type": "markdown",
   "id": "16f14194-0abc-4cf1-893f-d70be75a23eb",
   "metadata": {},
   "source": [
    "### Non-normalized or uncalibrated inputs\n",
    "- Non-normalized or uncalibrated inputs refer to raw data that hasn't been `transformed` or `standardized`.\n",
    "- In the context of neural networks, this means the input values haven't been adjusted or `scaled` to a specific range or distribution.\n",
    "- For example, `pixel values` in `images` ranging from `0 to 255` are considered uncalibrated inputs.\n",
    "- In Softmax activation, uncalibrated inputs are typically `raw scores or logits` from the previous layer.\n",
    "- These scores may have arbitrary values and are not directly `interpretable` as probabilities.\n",
    "- Softmax transforms these uncalibrated inputs into a probability distribution by `exponentiating` and normalizing them.\n",
    "- This transformation allows the model to `output` probabilities representing the `likelihood` of each class.\n"
   ]
  },
  {
   "cell_type": "code",
   "execution_count": 19,
   "id": "e3b1b26d-1ed2-4c3f-b38c-fe90563f46b1",
   "metadata": {},
   "outputs": [
    {
     "name": "stdout",
     "output_type": "stream",
     "text": [
      "exponentiated values:\n",
      "[121.51041751893969, 3.3534846525504487, 10.85906266492961]\n"
     ]
    }
   ],
   "source": [
    "import math\n",
    "layer_outputs = [ 4.8 , 1.21 , 2.385 ]\n",
    "E = math.e\n",
    "E = 2.71828182846 \n",
    "exp_values = []\n",
    "for output in layer_outputs:\n",
    "    exp_values.append(E ** output) \n",
    "print ( 'exponentiated values:' )\n",
    "print (exp_values)"
   ]
  },
  {
   "cell_type": "markdown",
   "id": "93b91ffc-c7f8-4fc4-a69a-fcdc095649b0",
   "metadata": {},
   "source": [
    "### Now normalize values"
   ]
  },
  {
   "cell_type": "code",
   "execution_count": 20,
   "id": "5860a75b-9305-4232-b9bf-bdee5589d166",
   "metadata": {},
   "outputs": [
    {
     "name": "stdout",
     "output_type": "stream",
     "text": [
      "Normalized exponentiated values:\n",
      "[0.8952826639573506, 0.024708306782070668, 0.08000902926057876]\n",
      "Sum of normalized values: 1.0\n"
     ]
    }
   ],
   "source": [
    "norm_base = sum (exp_values) # We sum all values\n",
    "norm_values = []\n",
    "for value in exp_values:\n",
    "    norm_values.append(value / norm_base)\n",
    "print ('Normalized exponentiated values:' )\n",
    "print (norm_values)\n",
    "print ('Sum of normalized values:' , sum (norm_values))"
   ]
  },
  {
   "cell_type": "code",
   "execution_count": null,
   "id": "0fca2f77-6270-4f91-ab41-36150b84a626",
   "metadata": {},
   "outputs": [],
   "source": []
  },
  {
   "cell_type": "markdown",
   "id": "2f662c6a-b06d-4b1b-a8aa-c5420ca69dfc",
   "metadata": {},
   "source": [
    "- The `exponential function` is `monotonic`, meaning higher input values result in higher outputs, ensuring non-negative values.\n",
    "- Exponentiation adds stability to the result by focusing more on the `difference` between numbers than their `magnitudes`.\n",
    "- After exponentiation, we aim to convert the numbers into a probability distribution, representing confidences for each class.\n",
    "- This involves `normalization`, where each value is divided by the sum of all values, ensuring they add up to `1`."
   ]
  },
  {
   "cell_type": "code",
   "execution_count": null,
   "id": "12758a87-cac0-4dab-9a10-f7a5bfdf6a43",
   "metadata": {},
   "outputs": [],
   "source": []
  },
  {
   "cell_type": "code",
   "execution_count": 21,
   "id": "7735427c-9731-45c4-bf86-4fd2925c733b",
   "metadata": {},
   "outputs": [
    {
     "name": "stdout",
     "output_type": "stream",
     "text": [
      "exponentiated values:\n",
      "[121.51041752   3.35348465  10.85906266]\n",
      "normalized exponentiated values:\n",
      "[0.89528266 0.02470831 0.08000903]\n",
      "sum of normalized values: 0.9999999999999999\n"
     ]
    }
   ],
   "source": [
    "import numpy as np\n",
    "layer_outputs = [ 4.8 , 1.21 , 2.385 ]\n",
    "exp_values = np.exp(layer_outputs)\n",
    "print ( 'exponentiated values:' )\n",
    "print (exp_values)\n",
    "norm_values = exp_values / np.sum(exp_values)\n",
    "print ( 'normalized exponentiated values:' )\n",
    "print (norm_values)\n",
    "print ( 'sum of normalized values:' , np.sum(norm_values))"
   ]
  },
  {
   "cell_type": "code",
   "execution_count": 22,
   "id": "f0e25e2a-3b25-4956-923b-b97953fcc618",
   "metadata": {},
   "outputs": [
    {
     "name": "stdout",
     "output_type": "stream",
     "text": [
      "Sum without axis\n",
      "18.172\n",
      "This will be identical to the above since default is None:\n",
      "18.172\n"
     ]
    }
   ],
   "source": [
    "import numpy as np\n",
    "layer_outputs = np.array([[ 4.8 , 1.21 , 2.385 ],\n",
    "                        [ 8.9 , - 1.81 , 0.2 ],\n",
    "                        [ 1.41 , 1.051 , 0.026 ]])\n",
    "\n",
    "print ( 'Sum without axis' )\n",
    "print (np.sum(layer_outputs))\n",
    "print ( 'This will be identical to the above since default is None:' )\n",
    "print (np.sum(layer_outputs, axis = None ))"
   ]
  },
  {
   "cell_type": "code",
   "execution_count": 23,
   "id": "ab79d12b-97f2-4b70-a4d7-fbc58ad71a88",
   "metadata": {},
   "outputs": [
    {
     "name": "stdout",
     "output_type": "stream",
     "text": [
      "Sum without axis\n",
      "18.172\n",
      " matrix == axis 0: columns:\n",
      "[15.11   0.451  2.611]\n"
     ]
    }
   ],
   "source": [
    "import numpy as np\n",
    "layer_outputs = np.array([[ 4.8 , 1.21 , 2.385 ],\n",
    "                        [ 8.9 , - 1.81 , 0.2 ],\n",
    "                        [ 1.41 , 1.051 , 0.026 ]])\n",
    "\n",
    "print ( 'Sum without axis' )\n",
    "print (np.sum(layer_outputs))\n",
    "print ( ' matrix == axis 0: columns:' )\n",
    "print (np.sum(layer_outputs, axis = 0 ))"
   ]
  },
  {
   "cell_type": "code",
   "execution_count": 24,
   "id": "e93ff81e-024f-4ee5-8e79-b77b30aca006",
   "metadata": {},
   "outputs": [
    {
     "name": "stdout",
     "output_type": "stream",
     "text": [
      "Sum without axis\n",
      "18.172\n",
      "Sum axis 1:\n",
      "[8.395 7.29  2.487]\n"
     ]
    }
   ],
   "source": [
    "import numpy as np\n",
    "layer_outputs = np.array([[ 4.8 , 1.21 , 2.385 ],\n",
    "                        [ 8.9 , - 1.81 , 0.2 ],\n",
    "                        [ 1.41 , 1.051 , 0.026 ]])\n",
    "\n",
    "print ( 'Sum without axis' )\n",
    "print (np.sum(layer_outputs))\n",
    "print ( 'Sum axis 1:' )\n",
    "print (np.sum(layer_outputs, axis = 1 ))"
   ]
  },
  {
   "cell_type": "code",
   "execution_count": 45,
   "id": "35ce0304-f4e4-4c9a-a1ca-995388d7a4f1",
   "metadata": {},
   "outputs": [
    {
     "data": {
      "image/png": "[encoded data removed]",
      "text/plain": [
       "<Figure size 432x288 with 1 Axes>"
      ]
     },
     "metadata": {
      "needs_background": "light"
     },
     "output_type": "display_data"
    }
   ],
   "source": [
    "import numpy as np\n",
    "import matplotlib.pyplot as plt\n",
    "\n",
    "def softmax(x):\n",
    "    return np.exp(x) / np.sum(np.exp(x))\n",
    "\n",
    "x_values = np.arange(-5, 6)\n",
    "y_values = softmax(x_values)\n",
    "plt.plot(x_values, y_values, marker='o')\n",
    "plt.title('Softmax Activation Function')\n",
    "plt.grid(True)\n",
    "plt.show()"
   ]
  },
  {
   "cell_type": "code",
   "execution_count": null,
   "id": "505376f0-77e4-407b-9121-6174c26427ef",
   "metadata": {},
   "outputs": [],
   "source": []
  },
  {
   "cell_type": "code",
   "execution_count": 46,
   "id": "e821cc2f-ff6c-4bcd-8745-33655333b9ba",
   "metadata": {},
   "outputs": [],
   "source": [
    "class Activation_Softmax :\n",
    "    def forward ( self , inputs ):\n",
    "        exp_values = np.exp(inputs - np.max(inputs, axis = 1 ,keepdims = True ))\n",
    "        probabilities = exp_values / np.sum(exp_values, axis = 1 ,keepdims = True )\n",
    "        self.output = probabilities"
   ]
  },
  {
   "cell_type": "code",
   "execution_count": 47,
   "id": "ff2745b0-d9d5-4880-8d03-7d305b5ce649",
   "metadata": {},
   "outputs": [
    {
     "name": "stdout",
     "output_type": "stream",
     "text": [
      "[[0.09003057 0.24472847 0.66524096]]\n"
     ]
    }
   ],
   "source": [
    "softmax = Activation_Softmax()\n",
    "softmax.forward([[ 1 , 2 , 3 ]])\n",
    "print (softmax.output)"
   ]
  },
  {
   "cell_type": "code",
   "execution_count": 48,
   "id": "1b0726ec-9e33-43aa-8b08-ca36d37e3c78",
   "metadata": {},
   "outputs": [
    {
     "name": "stdout",
     "output_type": "stream",
     "text": [
      "[[0.18632372 0.30719589 0.50648039]]\n"
     ]
    }
   ],
   "source": [
    "softmax.forward([[ 0.5 , 1 , 1.5 ]])\n",
    "print (softmax.output)"
   ]
  },
  {
   "cell_type": "code",
   "execution_count": 49,
   "id": "bccca7f1-381d-431a-a92c-7609c8157866",
   "metadata": {},
   "outputs": [],
   "source": [
    "X, y = spiral_data( samples = 100 , classes = 3 )"
   ]
  },
  {
   "cell_type": "code",
   "execution_count": 50,
   "id": "bfbd5c6a-2e48-4661-8cd9-8124787d06d1",
   "metadata": {},
   "outputs": [
    {
     "data": {
      "image/png": "[encoded data removed]",
      "text/plain": [
       "<Figure size 432x288 with 1 Axes>"
      ]
     },
     "metadata": {
      "needs_background": "light"
     },
     "output_type": "display_data"
    }
   ],
   "source": [
    "plt.scatter(X[:, 0 ], X[:, 1 ], c = y, cmap = 'brg' )\n",
    "plt.show()"
   ]
  },
  {
   "cell_type": "code",
   "execution_count": 51,
   "id": "7f7b8e7b-e8b5-497c-b4ed-c5ceecf10777",
   "metadata": {},
   "outputs": [],
   "source": [
    "dense1 = Layer_Dense( 2 , 3 )\n",
    "activation1 = Activation_ReLU()\n",
    "dense2 = Layer_Dense( 3 , 3 )\n",
    "activation2 = Activation_Softmax()\n",
    "dense1.forward(X)"
   ]
  },
  {
   "cell_type": "code",
   "execution_count": 52,
   "id": "4cd68951-b0cd-4e3c-9b02-cb390340813b",
   "metadata": {},
   "outputs": [
    {
     "data": {
      "text/plain": [
       "array([[ 0.00000000e+00,  0.00000000e+00,  0.00000000e+00],\n",
       "       [-1.01352258e-05, -1.31072957e-04,  4.92464505e-05],\n",
       "       [-9.01337553e-06, -2.46522236e-04,  1.08242771e-04],\n",
       "       [ 7.59740053e-05, -2.31726151e-04,  2.33008264e-04],\n",
       "       [ 6.09663025e-05, -3.74705741e-04,  2.80585641e-04]])"
      ]
     },
     "execution_count": 52,
     "metadata": {},
     "output_type": "execute_result"
    }
   ],
   "source": [
    "dense1.output[:5]"
   ]
  },
  {
   "cell_type": "code",
   "execution_count": 53,
   "id": "670f3c4c-ca15-434f-8028-6394f3a14b9a",
   "metadata": {},
   "outputs": [],
   "source": [
    "activation1.forward(dense1.output)\n",
    "dense2.forward(activation1.output)\n",
    "activation2.forward(dense2.output)"
   ]
  },
  {
   "cell_type": "code",
   "execution_count": 54,
   "id": "fe9aeb45-2988-4e3c-8e28-59a1ce7bb204",
   "metadata": {},
   "outputs": [
    {
     "data": {
      "text/plain": [
       "array([[0.00000000e+00, 0.00000000e+00, 0.00000000e+00],\n",
       "       [0.00000000e+00, 0.00000000e+00, 4.92464505e-05],\n",
       "       [0.00000000e+00, 0.00000000e+00, 1.08242771e-04],\n",
       "       [7.59740053e-05, 0.00000000e+00, 2.33008264e-04],\n",
       "       [6.09663025e-05, 0.00000000e+00, 2.80585641e-04]])"
      ]
     },
     "execution_count": 54,
     "metadata": {},
     "output_type": "execute_result"
    }
   ],
   "source": [
    "activation1.output[: 5 ]"
   ]
  },
  {
   "cell_type": "code",
   "execution_count": 55,
   "id": "590f6c66-4911-4750-b128-84aa04369983",
   "metadata": {},
   "outputs": [
    {
     "data": {
      "text/plain": [
       "array([[0.33333333, 0.33333333, 0.33333333],\n",
       "       [0.33333338, 0.33333335, 0.33333327],\n",
       "       [0.33333345, 0.33333336, 0.33333319],\n",
       "       [0.3333336 , 0.33333344, 0.33333297],\n",
       "       [0.33333364, 0.33333344, 0.33333292]])"
      ]
     },
     "execution_count": 55,
     "metadata": {},
     "output_type": "execute_result"
    }
   ],
   "source": [
    "activation2.output[: 5 ]"
   ]
  },
  {
   "cell_type": "code",
   "execution_count": null,
   "id": "c85d9423-044b-4d47-8a33-dc16481a0450",
   "metadata": {},
   "outputs": [],
   "source": []
  },
  {
   "cell_type": "markdown",
   "id": "1825aa15-d26a-40de-be40-691ff332040f",
   "metadata": {},
   "source": [
    "- The distribution of predictions is almost equal, with approximately 33% predictions for each class.\n",
    "- This uniform distribution results from the random initialization of weights and zeroed biases.\n",
    "- These predictions are also known as \"confidence scores.\"\n",
    "- To determine the predicted class, an argmax operation is performed on these confidence scores.\n",
    "- The argmax function returns the index of the class with the highest confidence score.\n",
    "- The confidence score can be as important as the predicted class itself in assessing the reliability of the prediction.\n",
    "- For example, the argmax of [0.22, 0.6, 0.18] is the same as the argmax for [0.32, 0.36, 0.32], both resulting in an index value of 1.\n",
    "- However, a higher confidence score (e.g., 60%) is generally considered more reliable than a lower confidence score (e.g., 36%).\n"
   ]
  },
  {
   "cell_type": "code",
   "execution_count": null,
   "id": "ef30ec97-b725-467c-8716-97e53647ad26",
   "metadata": {},
   "outputs": [],
   "source": []
  },
  {
   "cell_type": "code",
   "execution_count": 56,
   "id": "17a71002-2c52-49b2-b0ef-7149dcece726",
   "metadata": {},
   "outputs": [],
   "source": [
    "class Layer_Dense :\n",
    "    def __init__ ( self , n_inputs , n_neurons ):\n",
    "        self.weights = 0.01 * np.random.randn(n_inputs, n_neurons)\n",
    "        self.biases = np.zeros(( 1 , n_neurons))\n",
    "    def forward ( self , inputs ):\n",
    "        self.output = np.dot(inputs, self.weights) + self.biases\n",
    "\n",
    "class Activation_Softmax :\n",
    "    def forward ( self , inputs ):\n",
    "        exp_values = np.exp(inputs - np.max(inputs, axis = 1 ,keepdims = True ))\n",
    "        probabilities = exp_values / np.sum(exp_values, axis = 1 ,keepdims = True )\n",
    "        self.output = probabilities\n",
    "\n",
    "class Activation_ReLU :\n",
    "    def forward ( self , inputs ):\n",
    "        self.output = np.maximum( 0 , inputs)\n",
    "\n"
   ]
  },
  {
   "cell_type": "code",
   "execution_count": 57,
   "id": "c3f27ad2-1213-44b3-9de2-a3e37a4ec4e1",
   "metadata": {},
   "outputs": [],
   "source": [
    "X, y = spiral_data( samples = 100 , classes = 3 )"
   ]
  },
  {
   "cell_type": "code",
   "execution_count": 58,
   "id": "cbd4e3d2-ff27-43be-bcb5-21e41de2e179",
   "metadata": {},
   "outputs": [
    {
     "data": {
      "image/png": "[encoded data removed]",
      "text/plain": [
       "<Figure size 432x288 with 1 Axes>"
      ]
     },
     "metadata": {
      "needs_background": "light"
     },
     "output_type": "display_data"
    }
   ],
   "source": [
    "plt.scatter(X[:, 0 ], X[:, 1 ], c = y, cmap = 'brg' )\n",
    "plt.show()"
   ]
  },
  {
   "cell_type": "code",
   "execution_count": 59,
   "id": "ca2a4269-5370-4bd8-ad1a-6158cd3663dd",
   "metadata": {},
   "outputs": [],
   "source": [
    "dense1 = Layer_Dense(2, 3)\n",
    "activation1 = Activation_ReLU()\n",
    "dense2 = Layer_Dense(3, 3)\n",
    "activation2 = Activation_Softmax()"
   ]
  },
  {
   "cell_type": "code",
   "execution_count": 60,
   "id": "988c5126-85c4-44ac-a7fa-841777063ff5",
   "metadata": {},
   "outputs": [
    {
     "data": {
      "text/plain": [
       "array([[0.33333333, 0.33333333, 0.33333333],\n",
       "       [0.33333333, 0.33333349, 0.33333318],\n",
       "       [0.33333333, 0.33333363, 0.33333304],\n",
       "       [0.33333333, 0.33333359, 0.33333309],\n",
       "       [0.33333333, 0.3333336 , 0.33333308]])"
      ]
     },
     "execution_count": 60,
     "metadata": {},
     "output_type": "execute_result"
    }
   ],
   "source": [
    "dense1.forward(X)\n",
    "activation1.forward(dense1.output)\n",
    "dense2.forward(activation1.output)\n",
    "activation2.forward(dense2.output)\n",
    "activation2.output[:5]"
   ]
  },
  {
   "cell_type": "code",
   "execution_count": null,
   "id": "408b5d63-8d6d-4e6f-9778-b88dde3cef47",
   "metadata": {},
   "outputs": [],
   "source": []
  },
  {
   "cell_type": "markdown",
   "id": "753c3dd9-8bb3-49a1-aa61-28dd51e41290",
   "metadata": {},
   "source": [
    "## Sigmoid Activation Function\n",
    "<img align='right' src='Images/sigmoid1.png'>\n",
    "\n",
    "- Sigmoid is a `non-linear activation function` widely used in neural networks.\n",
    "- It squashes input values into the range of 0 to 1.\n",
    "- Mathematically, Sigmoid is defined as:\n",
    "\n",
    "   <img align='center' src='Images/sigmoid.png'>\n",
    "\n",
    "- transforming any real-valued input to a value between 0 and 1.\n",
    "\n",
    "### Advantages\n",
    "- Sigmoid provides smooth outputs, making it suitable for tasks where the output needs to be well-behaved and interpretable.\n",
    "- It is commonly used in the output layer of binary classification tasks, where it represents the probability of belonging to one class.\n",
    "\n",
    "### Disadvantages\n",
    "- Sigmoid can suffer from the `vanishing gradient problem` for very large or small input values, affecting the training process.\n",
    "- Sigmoid outputs are not `zero-centered`, making optimization slower, especially in deeper networks.\n",
    "- Sigmoid saturates and becomes flat for extreme input values, leading to the problem of `gradient saturation` and slowing down the learning process.\n"
   ]
  },
  {
   "cell_type": "code",
   "execution_count": null,
   "id": "fd5e03bf-64da-4279-a666-3e96822fb746",
   "metadata": {},
   "outputs": [],
   "source": []
  },
  {
   "cell_type": "code",
   "execution_count": null,
   "id": "6f537fea-8f50-4803-bbbe-c74afe4c13db",
   "metadata": {},
   "outputs": [],
   "source": []
  },
  {
   "cell_type": "code",
   "execution_count": 61,
   "id": "dc5073b2-c159-4031-9e71-21d703395ec6",
   "metadata": {},
   "outputs": [],
   "source": [
    "import numpy as np\n",
    "\n",
    "class Sigmoid:\n",
    "    def forward(self, inputs):\n",
    "        self.output = 1 / (1 + np.exp(-inputs))"
   ]
  },
  {
   "cell_type": "code",
   "execution_count": 62,
   "id": "14d5a77a-9abd-4a7a-9fcc-3fcf8402a63e",
   "metadata": {},
   "outputs": [
    {
     "data": {
      "text/plain": [
       "array([[0.99183743, 0.77029895, 0.9156763 ]])"
      ]
     },
     "execution_count": 62,
     "metadata": {},
     "output_type": "execute_result"
    }
   ],
   "source": [
    "layer_outputs = np.array([[4.8, 1.21, 2.385]])\n",
    "sigmoid = Sigmoid()\n",
    "sigmoid.forward(layer_outputs)\n",
    "sigmoid.output"
   ]
  },
  {
   "cell_type": "code",
   "execution_count": 63,
   "id": "ed1ba6f8-2fc7-471c-aa99-db8dc2e8df9e",
   "metadata": {},
   "outputs": [
    {
     "data": {
      "image/png": "[encoded data removed]",
      "text/plain": [
       "<Figure size 432x288 with 1 Axes>"
      ]
     },
     "metadata": {
      "needs_background": "light"
     },
     "output_type": "display_data"
    }
   ],
   "source": [
    "import numpy as np\n",
    "import matplotlib.pyplot as plt\n",
    "\n",
    "class Sigmoid:\n",
    "    def forward(self, inputs):\n",
    "        self.output = 1 / (1 + np.exp(-inputs))\n",
    "\n",
    "sigmoid = Sigmoid()\n",
    "x_values = np.linspace(-10, 10, 100)\n",
    "sigmoid.forward(x_values)\n",
    "plt.plot(x_values, sigmoid.output)\n",
    "plt.title('Sigmoid Activation Function')\n",
    "plt.scatter([0],[0.5],color='red')\n",
    "plt.grid(True)\n",
    "plt.show()"
   ]
  },
  {
   "cell_type": "code",
   "execution_count": null,
   "id": "6c68e4ea-2426-429d-8a1c-71622864f8c9",
   "metadata": {},
   "outputs": [],
   "source": []
  },
  {
   "cell_type": "code",
   "execution_count": null,
   "id": "0c98a357-7e41-4713-8e1f-1d85018bbed1",
   "metadata": {},
   "outputs": [],
   "source": []
  }
 ],
 "metadata": {
  "kernelspec": {
   "display_name": "Python 3 (ipykernel)",
   "language": "python",
   "name": "python3"
  },
  "language_info": {
   "codemirror_mode": {
    "name": "ipython",
    "version": 3
   },
   "file_extension": ".py",
   "mimetype": "text/x-python",
   "name": "python",
   "nbconvert_exporter": "python",
   "pygments_lexer": "ipython3",
   "version": "3.10.6"
  }
 },
 "nbformat": 4,
 "nbformat_minor": 5
}
