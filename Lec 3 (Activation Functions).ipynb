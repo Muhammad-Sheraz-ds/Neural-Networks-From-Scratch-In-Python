{
 "cells": [
  {
   "cell_type": "markdown",
   "id": "dbaa05fe-c3c7-4e7f-91c6-56fcb28aa699",
   "metadata": {},
   "source": [
    "---   \n",
    " <img align=\"left\" width=\"75\" height=\"75\"  src=\"https://upload.wikimedia.org/wikipedia/en/c/c8/University_of_the_Punjab_logo.png\"> \n",
    "\n",
    "<h1 align=\"center\">Tools and Techniques for Data Science</h1>\n",
    "<h1 align=\"center\">Neural Networks From Scratch in Python</h1>\n",
    "\n",
    "---  \n",
    "\n",
    "<h2 align=\"right\"> Muhammad Sheraz (Data Scientist)</h2>\n",
    "<h1 align=\"center\"> Lec 3 (Activation Functions)</h1>"
   ]
  },
  {
   "cell_type": "markdown",
   "id": "02711733-7dbc-4a0a-ac91-a47f09b14a29",
   "metadata": {},
   "source": [
    "<img width='100%' src='Images/activation functions.jpg'>"
   ]
  },
  {
   "cell_type": "code",
   "execution_count": null,
   "id": "15f433f7-a921-40d9-afdf-65511ca64b61",
   "metadata": {},
   "outputs": [],
   "source": []
  },
  {
   "cell_type": "code",
   "execution_count": null,
   "id": "56b88720-9354-4b10-99b5-21e53241ce47",
   "metadata": {},
   "outputs": [],
   "source": []
  },
  {
   "cell_type": "markdown",
   "id": "8b8ed846-6ecc-42af-b757-e049e84da737",
   "metadata": {},
   "source": [
    "## ReLU Activation Function"
   ]
  },
  {
   "cell_type": "code",
   "execution_count": null,
   "id": "dc2fea48-950b-4f58-8654-c9eeabd0c3cd",
   "metadata": {},
   "outputs": [],
   "source": []
  },
  {
   "cell_type": "code",
   "execution_count": 4,
   "id": "021e91b1-b570-45b9-9333-52d8436b26fb",
   "metadata": {},
   "outputs": [
    {
     "name": "stdout",
     "output_type": "stream",
     "text": [
      "[0, 2, 0, 3.3, 0, 1.1, 2.2, 0]\n"
     ]
    }
   ],
   "source": [
    "inputs = [ 0 , 2 , - 1 , 3.3 , - 2.7 , 1.1 , 2.2 , - 100 ]\n",
    "output = []\n",
    "for i in inputs:\n",
    "    if i > 0 :\n",
    "        output.append(i)\n",
    "    else :\n",
    "        output.append( 0 )\n",
    "print(output)"
   ]
  },
  {
   "cell_type": "code",
   "execution_count": null,
   "id": "f8809fee-8421-4779-a272-73394a7f6534",
   "metadata": {},
   "outputs": [],
   "source": []
  },
  {
   "cell_type": "code",
   "execution_count": 6,
   "id": "2f459ccf-0541-479b-a8e8-ba6bb3447c0f",
   "metadata": {},
   "outputs": [
    {
     "name": "stdout",
     "output_type": "stream",
     "text": [
      "[0, 2, 0, 3.3, 0, 1.1, 2.2, 0]\n"
     ]
    }
   ],
   "source": [
    "inputs = [ 0 , 2 , - 1 , 3.3 , - 2.7 , 1.1 , 2.2 , - 100 ]\n",
    "output = []\n",
    "for i in inputs:\n",
    "    output.append( max ( 0 , i))\n",
    "print (output)"
   ]
  },
  {
   "cell_type": "code",
   "execution_count": null,
   "id": "482118da-532a-4d0b-8b68-a3e6bf27e676",
   "metadata": {},
   "outputs": [],
   "source": []
  },
  {
   "cell_type": "code",
   "execution_count": 7,
   "id": "8321c606-ba11-4355-af5a-f863fdb51e5d",
   "metadata": {},
   "outputs": [
    {
     "name": "stdout",
     "output_type": "stream",
     "text": [
      "[0.  2.  0.  3.3 0.  1.1 2.2 0. ]\n"
     ]
    }
   ],
   "source": [
    "import numpy as np\n",
    "inputs = [ 0 , 2 , - 1 , 3.3 , - 2.7 , 1.1 , 2.2 , - 100 ]\n",
    "output = np.maximum( 0 , inputs)\n",
    "print (output)"
   ]
  },
  {
   "cell_type": "code",
   "execution_count": null,
   "id": "8b78dd72-c5d7-4e20-a474-668894d0efcd",
   "metadata": {},
   "outputs": [],
   "source": []
  },
  {
   "cell_type": "code",
   "execution_count": 1,
   "id": "55ba0f59-2238-45c4-a3e5-cf3bfde28f9f",
   "metadata": {},
   "outputs": [],
   "source": [
    "class Activation_ReLU :\n",
    "# Forward pass\n",
    "    def forward ( self , inputs ):\n",
    "    # Calculate output values from input\n",
    "        self.output = np.maximum( 0 , inputs)"
   ]
  },
  {
   "cell_type": "code",
   "execution_count": 2,
   "id": "7d677b1a-5e14-4f5d-a564-22b4b4693d55",
   "metadata": {},
   "outputs": [],
   "source": [
    "from nnfs.datasets import spiral_data"
   ]
  },
  {
   "cell_type": "code",
   "execution_count": 3,
   "id": "5cac176c-d7e5-416f-a0cb-03dca21e0816",
   "metadata": {},
   "outputs": [
    {
     "ename": "NameError",
     "evalue": "name 'Layer_Dense' is not defined",
     "output_type": "error",
     "traceback": [
      "\u001b[1;31m---------------------------------------------------------------------------\u001b[0m",
      "\u001b[1;31mNameError\u001b[0m                                 Traceback (most recent call last)",
      "Cell \u001b[1;32mIn[3], line 3\u001b[0m\n\u001b[0;32m      1\u001b[0m X, y \u001b[38;5;241m=\u001b[39m spiral_data( samples \u001b[38;5;241m=\u001b[39m \u001b[38;5;241m100\u001b[39m , classes \u001b[38;5;241m=\u001b[39m \u001b[38;5;241m3\u001b[39m )\n\u001b[0;32m      2\u001b[0m \u001b[38;5;66;03m# Create Dense layer with 2 input features and 3 output values\u001b[39;00m\n\u001b[1;32m----> 3\u001b[0m dense1 \u001b[38;5;241m=\u001b[39m \u001b[43mLayer_Dense\u001b[49m( \u001b[38;5;241m2\u001b[39m , \u001b[38;5;241m3\u001b[39m )\n\u001b[0;32m      4\u001b[0m \u001b[38;5;66;03m# Create ReLU activation (to be used with Dense layer):\u001b[39;00m\n\u001b[0;32m      5\u001b[0m activation1 \u001b[38;5;241m=\u001b[39m Activation_ReLU()\n",
      "\u001b[1;31mNameError\u001b[0m: name 'Layer_Dense' is not defined"
     ]
    }
   ],
   "source": [
    "X, y = spiral_data( samples = 100 , classes = 3 )\n",
    "# Create Dense layer with 2 input features and 3 output values\n",
    "dense1 = Layer_Dense( 2 , 3 )\n",
    "# Create ReLU activation (to be used with Dense layer):\n",
    "activation1 = Activation_ReLU()\n",
    "# Make a forward pass of our training data through this layer\n",
    "dense1.forward(X)\n",
    "# Forward pass through activation func.\n",
    "# Takes in output from previous layer\n",
    "activation1.forward(dense1.output)"
   ]
  },
  {
   "cell_type": "code",
   "execution_count": null,
   "id": "eb354cad-7baf-4e47-ae64-5bdd5461f9c4",
   "metadata": {},
   "outputs": [],
   "source": []
  }
 ],
 "metadata": {
  "kernelspec": {
   "display_name": "Python 3 (ipykernel)",
   "language": "python",
   "name": "python3"
  },
  "language_info": {
   "codemirror_mode": {
    "name": "ipython",
    "version": 3
   },
   "file_extension": ".py",
   "mimetype": "text/x-python",
   "name": "python",
   "nbconvert_exporter": "python",
   "pygments_lexer": "ipython3",
   "version": "3.10.6"
  }
 },
 "nbformat": 4,
 "nbformat_minor": 5
}
