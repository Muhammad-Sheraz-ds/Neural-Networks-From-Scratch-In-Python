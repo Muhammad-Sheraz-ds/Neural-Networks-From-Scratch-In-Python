{
 "cells": [
  {
   "cell_type": "markdown",
   "id": "dbaa05fe-c3c7-4e7f-91c6-56fcb28aa699",
   "metadata": {},
   "source": [
    "---   \n",
    "<img align=\"left\" width=\"110\"   src=\"https://upload.wikimedia.org/wikipedia/commons/c/c3/Python-logo-notext.svg\"> \n",
    "<h1 align=\"center\">Tools and Techniques for Data Science</h1>\n",
    "<h1 align=\"center\">Neural Networks From Scratch in Python</h1>\n",
    "\n",
    "---  \n",
    "\n",
    "<h3 align=\"right\"> Muhammad Sheraz (Data Scientist)</h3>\n",
    "<h1 align=\"center\"> Lec 3 (Activation Functions)</h1>"
   ]
  },
  {
   "cell_type": "markdown",
   "id": "02711733-7dbc-4a0a-ac91-a47f09b14a29",
   "metadata": {},
   "source": [
    "<img width='100%' src='Images/activation functions.jpg'>"
   ]
  },
  {
   "cell_type": "markdown",
   "id": "3a5c88b1-a38a-47e3-8473-fbea4ead1214",
   "metadata": {},
   "source": [
    "## ReLU Activation Function\n",
    "<img align='right' src='Images/relu.jpg'>\n",
    "\n",
    "- ReLU stands for Rectified Linear Unit.\n",
    "- It is a `non-linear activation function` widely used in neural networks.\n",
    "- Mathematically, ReLU is defined as `f(x) = max(0, x)`,which means it `returns 0` for any negative input and the input value for any positive input.\n",
    "\n",
    "### Advantages\n",
    "- ReLU is computationally efficient and helps in addressing the `vanishing gradient problem` during training.\n",
    "- One of its main advantages is that it introduces sparsity in the network by setting negative values to zero, which can help prevent `overfitting`.\n",
    "- ReLU is often used in hidden layers of neural networks, especially in deep learning architectures.\n",
    "\n",
    "### Disadvantages\n",
    "- Despite its advantages, ReLU can suffer from the `dying ReLU` problem where neurons may become inactive and permanently output zero for any input.\n",
    "- To address the dying ReLU problem, variants such as `Leaky ReLU` and `Parametric ReLU` have been introduced.\n"
   ]
  },
  {
   "cell_type": "code",
   "execution_count": 71,
   "id": "021e91b1-b570-45b9-9333-52d8436b26fb",
   "metadata": {},
   "outputs": [
    {
     "name": "stdout",
     "output_type": "stream",
     "text": [
      "[0, 2, 0, 3.3, 0, 1.1, 2.2, 0]\n"
     ]
    }
   ],
   "source": [
    "inputs = [ 0 , 2 , - 1 , 3.3 , - 2.7 , 1.1 , 2.2 , - 100 ]\n",
    "output = []\n",
    "for i in inputs:\n",
    "    if i > 0 :\n",
    "        output.append(i)\n",
    "    else :\n",
    "        output.append( 0 )\n",
    "print(output)"
   ]
  },
  {
   "cell_type": "code",
   "execution_count": null,
   "id": "f8809fee-8421-4779-a272-73394a7f6534",
   "metadata": {},
   "outputs": [],
   "source": []
  },
  {
   "cell_type": "code",
   "execution_count": 62,
   "id": "2f459ccf-0541-479b-a8e8-ba6bb3447c0f",
   "metadata": {},
   "outputs": [
    {
     "name": "stdout",
     "output_type": "stream",
     "text": [
      "[0, 2, 0, 3.3, 0, 1.1, 2.2, 0]\n"
     ]
    }
   ],
   "source": [
    "inputs = [ 0 , 2 , - 1 , 3.3 , - 2.7 , 1.1 , 2.2 , - 100 ]\n",
    "output = []\n",
    "for i in inputs:\n",
    "    output.append( max ( 0 , i))\n",
    "print (output)"
   ]
  },
  {
   "cell_type": "code",
   "execution_count": null,
   "id": "482118da-532a-4d0b-8b68-a3e6bf27e676",
   "metadata": {},
   "outputs": [],
   "source": []
  },
  {
   "cell_type": "code",
   "execution_count": 63,
   "id": "8321c606-ba11-4355-af5a-f863fdb51e5d",
   "metadata": {},
   "outputs": [
    {
     "name": "stdout",
     "output_type": "stream",
     "text": [
      "[0.  2.  0.  3.3 0.  1.1 2.2 0. ]\n"
     ]
    }
   ],
   "source": [
    "import numpy as np\n",
    "inputs = [ 0 , 2 , - 1 , 3.3 , - 2.7 , 1.1 , 2.2 , - 100 ]\n",
    "output = np.maximum( 0 , inputs)\n",
    "print (output)"
   ]
  },
  {
   "cell_type": "code",
   "execution_count": null,
   "id": "5b45a0f3-b0f8-46a2-8fb2-fb27a32d1084",
   "metadata": {},
   "outputs": [],
   "source": []
  },
  {
   "cell_type": "code",
   "execution_count": 84,
   "id": "03f0c50c-0827-462a-a93c-2a9a69e54d60",
   "metadata": {},
   "outputs": [
    {
     "data": {
      "image/png": "[encoded data removed]",
      "text/plain": [
       "<Figure size 432x288 with 1 Axes>"
      ]
     },
     "metadata": {
      "needs_background": "light"
     },
     "output_type": "display_data"
    }
   ],
   "source": [
    "import numpy as np\n",
    "import matplotlib.pyplot as plt\n",
    "\n",
    "def relu(x):\n",
    "    return np.maximum(0, x)\n",
    "\n",
    "x_values = np.linspace(-5, 5, 100)\n",
    "y_values = relu(x_values)\n",
    "plt.plot(x_values, y_values, label='ReLU Function')\n",
    "plt.title('ReLU Activation Function')\n",
    "plt.grid(True)\n",
    "plt.annotate('f(x) = max(0,X)', xy=(-2.5,3),fontsize=16)\n",
    "plt.show()"
   ]
  },
  {
   "cell_type": "code",
   "execution_count": null,
   "id": "8b78dd72-c5d7-4e20-a474-668894d0efcd",
   "metadata": {},
   "outputs": [],
   "source": []
  },
  {
   "cell_type": "code",
   "execution_count": 65,
   "id": "55ba0f59-2238-45c4-a3e5-cf3bfde28f9f",
   "metadata": {},
   "outputs": [],
   "source": [
    "class Activation_ReLU :\n",
    "    def forward ( self , inputs ):\n",
    "        self.output = np.maximum( 0 , inputs)"
   ]
  },
  {
   "cell_type": "code",
   "execution_count": 66,
   "id": "7d677b1a-5e14-4f5d-a564-22b4b4693d55",
   "metadata": {},
   "outputs": [],
   "source": [
    "from nnfs.datasets import spiral_data"
   ]
  },
  {
   "cell_type": "code",
   "execution_count": 67,
   "id": "5cac176c-d7e5-416f-a0cb-03dca21e0816",
   "metadata": {},
   "outputs": [],
   "source": [
    "X, y = spiral_data( samples = 100 , classes = 3 )\n",
    "# Create Dense layer with 2 input features and 3 output values\n",
    "dense1 = Layer_Dense( 2 , 3 )\n",
    "# Create ReLU activation (to be used with Dense layer):\n",
    "activation1 = Activation_ReLU()\n",
    "# Make a forward pass of our training data through this layer\n",
    "dense1.forward(X)"
   ]
  },
  {
   "cell_type": "code",
   "execution_count": null,
   "id": "9758d7b6-2f11-4110-8629-e95d56b0d22b",
   "metadata": {},
   "outputs": [],
   "source": []
  },
  {
   "cell_type": "code",
   "execution_count": 68,
   "id": "f1a57d86-595e-466e-b876-ba18d09ef2df",
   "metadata": {},
   "outputs": [
    {
     "data": {
      "text/plain": [
       "array([[ 0.        ,  0.        ,  0.        ],\n",
       "       [-0.00019159,  0.00011516,  0.00010612],\n",
       "       [-0.00046103,  0.00010994,  0.00031692],\n",
       "       [-0.00057144,  0.00034756,  0.00031502],\n",
       "       [-0.00078807,  0.00044588,  0.00044675]])"
      ]
     },
     "execution_count": 68,
     "metadata": {},
     "output_type": "execute_result"
    }
   ],
   "source": [
    "dense1.output[: 5 ]"
   ]
  },
  {
   "cell_type": "code",
   "execution_count": 69,
   "id": "e74949fe-39ad-433e-b2d1-947dfe306a8f",
   "metadata": {},
   "outputs": [],
   "source": [
    "# Forward pass through activation func.\n",
    "# Takes in output from previous layer\n",
    "activation1.forward(dense1.output)"
   ]
  },
  {
   "cell_type": "code",
   "execution_count": 70,
   "id": "57b2df8c-e00d-4ee0-ad83-62f4ab3c7c95",
   "metadata": {},
   "outputs": [
    {
     "data": {
      "text/plain": [
       "array([[0.        , 0.        , 0.        ],\n",
       "       [0.        , 0.00011516, 0.00010612],\n",
       "       [0.        , 0.00010994, 0.00031692],\n",
       "       [0.        , 0.00034756, 0.00031502],\n",
       "       [0.        , 0.00044588, 0.00044675]])"
      ]
     },
     "execution_count": 70,
     "metadata": {},
     "output_type": "execute_result"
    }
   ],
   "source": [
    "# Let's see output of the first few samples:\n",
    "activation1.output[: 5 ]"
   ]
  },
  {
   "cell_type": "markdown",
   "id": "2cdc84e9-5108-428e-8563-cebd3aae3938",
   "metadata": {},
   "source": [
    "> **As you can see, negative values have been clipped (modified to be zero). That’s all there is to the\n",
    "rectified linear activation function used in the hidden layer.**"
   ]
  },
  {
   "cell_type": "code",
   "execution_count": null,
   "id": "3b968917-4cae-46a4-a84d-d32bbabc7280",
   "metadata": {},
   "outputs": [],
   "source": []
  },
  {
   "cell_type": "markdown",
   "id": "165a2eb2-b7db-447a-84b8-9fd6e952c8df",
   "metadata": {},
   "source": [
    "## Softmax Activation Function\n",
    "\n",
    "<img align='right' src='Images/softmax.jpg'>\n",
    "\n",
    "- Softmax is a `non-linear activation function` commonly used in `classification problems` in neural networks.\n",
    "- Mathematically, softmax is defined as the exponential of each input divided by the sum of all exponentials in the input vector. This can be represented as:\n",
    "\n",
    "   <img align='center' src='Images/softmax1.png'>\n",
    "\n",
    "### Advantages\n",
    "\n",
    "- Softmax function normalizes the output into a `probability distribution`, ensuring that the output values are between `0` and `1` and sum up to `1`.\n",
    "- It is useful for `multi-class classification` tasks as it provides the probability distribution over multiple classes.\n",
    "\n",
    "  \n",
    "### Disadvantages\n",
    "\n",
    "- Softmax function can suffer from `numerical instability`, especially when dealing with large input values, which can lead to `overflow` or `underflow` issues.\n",
    "- It is sensitive to `outliers` in the input data, which can affect the model's predictions.\n",
    "- Softmax outputs are `not robust` to changes in input scale, as small changes in the input can lead to significant changes in the output probabilities.\n",
    "\n",
    "### Explaination\n",
    "- Softmax transforms uncalibrated inputs into a probability distribution.\n",
    "- The `output` of Softmax represents `confidence scores` for each class.\n",
    "- The predicted class is associated with the highest confidence score.\n",
    "- Confidence scores sum up to `1`, providing context for predictions.\n",
    "- `Lower confidence` scores may indicate `uncertainty` in predictions."
   ]
  },
  {
   "cell_type": "code",
   "execution_count": null,
   "id": "8221ae1a-ba7d-4dee-b0ec-6fe8b3e6cff0",
   "metadata": {},
   "outputs": [],
   "source": []
  },
  {
   "cell_type": "markdown",
   "id": "16f14194-0abc-4cf1-893f-d70be75a23eb",
   "metadata": {},
   "source": [
    "### Non-normalized or uncalibrated inputs\n",
    "- Non-normalized or uncalibrated inputs refer to raw data that hasn't been `transformed` or `standardized`.\n",
    "- In the context of neural networks, this means the input values haven't been adjusted or `scaled` to a specific range or distribution.\n",
    "- For example, `pixel values` in `images` ranging from `0 to 255` are considered uncalibrated inputs.\n",
    "- In Softmax activation, uncalibrated inputs are typically `raw scores or logits` from the previous layer.\n",
    "- These scores may have arbitrary values and are not directly `interpretable` as probabilities.\n",
    "- Softmax transforms these uncalibrated inputs into a probability distribution by `exponentiating` and normalizing them.\n",
    "- This transformation allows the model to `output` probabilities representing the `likelihood` of each class.\n"
   ]
  },
  {
   "cell_type": "code",
   "execution_count": null,
   "id": "e3b1b26d-1ed2-4c3f-b38c-fe90563f46b1",
   "metadata": {},
   "outputs": [],
   "source": []
  },
  {
   "cell_type": "code",
   "execution_count": 83,
   "id": "35ce0304-f4e4-4c9a-a1ca-995388d7a4f1",
   "metadata": {},
   "outputs": [
    {
     "data": {
      "image/png": "[encoded data removed]",
      "text/plain": [
       "<Figure size 432x288 with 1 Axes>"
      ]
     },
     "metadata": {
      "needs_background": "light"
     },
     "output_type": "display_data"
    }
   ],
   "source": [
    "import numpy as np\n",
    "import matplotlib.pyplot as plt\n",
    "\n",
    "def softmax(x):\n",
    "    return np.exp(x) / np.sum(np.exp(x))\n",
    "\n",
    "x_values = np.arange(-5, 6)\n",
    "y_values = softmax(x_values)\n",
    "plt.plot(x_values, y_values, marker='o')\n",
    "plt.title('Softmax Activation Function')\n",
    "plt.grid(True)\n",
    "plt.annotate('Softmax Function', xy=(-3, 0.3), fontsize=12)\n",
    "plt.show()"
   ]
  },
  {
   "cell_type": "code",
   "execution_count": null,
   "id": "505376f0-77e4-407b-9121-6174c26427ef",
   "metadata": {},
   "outputs": [],
   "source": []
  }
 ],
 "metadata": {
  "kernelspec": {
   "display_name": "Python 3 (ipykernel)",
   "language": "python",
   "name": "python3"
  },
  "language_info": {
   "codemirror_mode": {
    "name": "ipython",
    "version": 3
   },
   "file_extension": ".py",
   "mimetype": "text/x-python",
   "name": "python",
   "nbconvert_exporter": "python",
   "pygments_lexer": "ipython3",
   "version": "3.10.6"
  }
 },
 "nbformat": 4,
 "nbformat_minor": 5
}
